{
 "cells": [
  {
   "cell_type": "markdown",
   "id": "6d73bf17-3816-450c-b062-18f552d6727a",
   "metadata": {
    "collapsed": false
   },
   "source": [
    "## Histograms of Numeric Features\n",
    "\n",
    "These histograms show the distribution of each numeric feature in the synthetic dataset. This helps to quickly spot outliers, skewness, and the general shape of the data for each variable.\n"
   ]
  },
  {
   "cell_type": "code",
   "execution_count": null,
   "id": "9e5b4eff26d8b79b",
   "metadata": {
    "collapsed": false
   },
   "outputs": [],
   "source": [
    "import matplotlib.pyplot as plt\n",
    "import pandas as pd\n",
    "\n",
    "df = pd.read_csv(\"synth_data_set_v2.csv\")\n",
    "\n",
    "numeric_cols = [\n",
    "    'duration', 'priority', 'subtasks', 'deadline_days', 'created_to_deadline',\n",
    "    'user_past_completion', 'description_length', 'comments_count',\n",
    "    'assigned_team_size', 'user_availability', 'no_curr_assigned_tasks',\n",
    "    'tasks_completed', 'avg_completion_time'\n",
    "]\n",
    "\n",
    "# Display the first few rows\n",
    "display(df.head())\n",
    "\n",
    "# Display the number of observations\n",
    "print(f\"Number of observations: {len(df)}\")\n",
    "\n",
    "# Plot histograms\n",
    "df[numeric_cols].hist(bins=20, figsize=(16, 12))\n",
    "plt.suptitle(\"Histograms of Numeric Features\")\n",
    "plt.show()"
   ]
  },
  {
   "cell_type": "markdown",
   "id": "48ba4c329da46c",
   "metadata": {
    "collapsed": false
   },
   "source": [
    "## Task Type Distribution\n",
    "\n",
    "This bar plot shows the frequency of each task type in the dataset. It helps to understand how balanced or imbalanced the categorical variable `task_type` is.\n"
   ]
  },
  {
   "cell_type": "code",
   "execution_count": null,
   "id": "957682b6d08eff45",
   "metadata": {
    "collapsed": false
   },
   "outputs": [],
   "source": [
    "import seaborn as sns\n",
    "\n",
    "plt.figure(figsize=(6, 4))\n",
    "sns.countplot(x='task_type', data=df)\n",
    "plt.title(\"Task Type Distribution\")\n",
    "plt.show()"
   ]
  },
  {
   "cell_type": "markdown",
   "id": "d95c1312e3204d2d",
   "metadata": {
    "collapsed": false
   },
   "source": [
    "## Correlation Heatmap\n",
    "\n",
    "The heatmap below visualizes the correlation coefficients between numeric features. Strong positive or negative correlations can indicate redundancy or interesting relationships in the data.\n"
   ]
  },
  {
   "cell_type": "code",
   "execution_count": null,
   "id": "4db48076ecfe655a",
   "metadata": {},
   "outputs": [],
   "source": [
    "plt.figure(figsize=(12, 10))\n",
    "sns.heatmap(df[numeric_cols].corr(), annot=True, cmap='coolwarm')\n",
    "plt.title(\"Correlation Heatmap\")\n",
    "plt.show()"
   ]
  },
  {
   "cell_type": "markdown",
   "id": "6c58d4a7c587246",
   "metadata": {
    "collapsed": false
   },
   "source": [
    "## Duration by Task Type\n",
    "\n",
    "This boxplot shows the distribution of task durations for each task type. It helps to compare the spread and central tendency of duration across different categories.\n"
   ]
  },
  {
   "cell_type": "code",
   "execution_count": null,
   "id": "19e272341833608d",
   "metadata": {},
   "outputs": [],
   "source": [
    "plt.figure(figsize=(8, 6))\n",
    "sns.boxplot(x='task_type', y='duration', data=df)\n",
    "plt.title(\"Duration by Task Type\")\n",
    "plt.show()"
   ]
  },
  {
   "cell_type": "markdown",
   "id": "671c9bbcb57bc3fa",
   "metadata": {
    "collapsed": false
   },
   "source": [
    "## Pairplot of Selected Features\n",
    "\n",
    "The pairplot below shows pairwise relationships between selected features, colored by `task_type`. This is useful for visualizing potential class separation and feature interactions.\n"
   ]
  },
  {
   "cell_type": "code",
   "execution_count": null,
   "id": "e77bca4a1692dfdd",
   "metadata": {},
   "outputs": [],
   "source": [
    "sns.pairplot(df, vars=['duration', 'deadline_days', 'user_past_completion', 'avg_completion_time'], \n",
    "             hue='task_type')\n",
    "plt.suptitle(\"Pairplot of Selected Features\", y=1.02)\n",
    "plt.show()"
   ]
  },
  {
   "cell_type": "markdown",
   "id": "755777152231246f",
   "metadata": {
    "collapsed": false
   },
   "source": [
    "## Class Balance: Completed on Time\n",
    "\n",
    "This pie chart shows the proportion of tasks that were completed on time versus those that were not. It helps to quickly assess class imbalance in the target variable.\n"
   ]
  },
  {
   "cell_type": "code",
   "execution_count": null,
   "id": "33a2400f06c4af30",
   "metadata": {
    "collapsed": false
   },
   "outputs": [],
   "source": [
    "plt.figure(figsize=(5, 5))\n",
    "df['completed_on_time'].value_counts().plot.pie(autopct='%1.1f%%', labels=['Completed', 'Not Completed'])\n",
    "plt.title(\"Class Balance: Completed on Time\")\n",
    "plt.ylabel(\"\")\n",
    "plt.show()"
   ]
  },
  {
   "cell_type": "markdown",
   "id": "4ad5e79a1aaf7c54",
   "metadata": {
    "collapsed": false
   },
   "source": [
    "## PCA of Feature Space (Colored by Completion)\n",
    "\n",
    "This scatterplot shows the first two principal components of the numeric features, colored by whether the task was completed on time. It provides a 2D visualization of the high-dimensional feature space.\n"
   ]
  },
  {
   "cell_type": "code",
   "execution_count": null,
   "id": "4e0a213edb58ad47",
   "metadata": {
    "collapsed": false
   },
   "outputs": [],
   "source": [
    "from sklearn.decomposition import PCA\n",
    "\n",
    "pca = PCA(n_components=2)\n",
    "X_pca = pca.fit_transform(df[numeric_cols])\n",
    "plt.figure(figsize=(8, 6))\n",
    "plt.scatter(X_pca[:, 0], X_pca[:, 1], c=df['completed_on_time'], cmap='coolwarm', alpha=0.5)\n",
    "plt.title(\"PCA of Feature Space (colored by completion)\")\n",
    "plt.xlabel(\"PC1\")\n",
    "plt.ylabel(\"PC2\")\n",
    "plt.show()"
   ]
  },
  {
   "cell_type": "markdown",
   "id": "6d47fa2192a9db4d",
   "metadata": {
    "collapsed": false
   },
   "source": []
  },
  {
   "cell_type": "markdown",
   "id": "d2a8162eeabc03c1",
   "metadata": {
    "collapsed": false
   },
   "source": [
    "# Model Explanation: SHAP and LIME\n",
    "\n",
    "This notebook demonstrates how to use SHAP and LIME to explain a single prediction from our neural network model for task completion.\n"
   ]
  },
  {
   "cell_type": "code",
   "execution_count": null,
   "id": "960aeead2db7a43",
   "metadata": {
    "collapsed": false
   },
   "outputs": [],
   "source": [
    "import joblib\n",
    "import pandas as pd\n",
    "import numpy as np\n",
    "from tensorflow.keras.models import load_model\n",
    "\n",
    "# Load model and preprocessor\n",
    "MODEL_PATH = \"../app/models/trained_models/task_completion_prediction_model_nn.keras\"\n",
    "PREPROCESSOR_PATH = \"../app/models/trained_models/preprocessor_nn.pkl\"\n",
    "\n",
    "model = load_model(MODEL_PATH)\n",
    "preprocessor = joblib.load(PREPROCESSOR_PATH)\n",
    "\n",
    "# Define the feature order (must match training)\n",
    "categorical_features = ['task_type']\n",
    "numerical_features = [\n",
    "    'duration', 'priority', 'subtasks', 'deadline_days', 'created_to_deadline',\n",
    "    'user_past_completion', 'description_length', 'comments_count',\n",
    "    'assigned_team_size', 'user_availability', 'no_curr_assigned_tasks',\n",
    "    'tasks_completed', 'avg_completion_time'\n",
    "]\n",
    "\n",
    "# Load your training data (or a sample)\n",
    "X_train = pd.read_csv(\"synth_data_set_v2.csv\")[numerical_features + categorical_features]\n",
    "preprocessor.fit(X_train)\n",
    "\n",
    "# Get feature names after preprocessing\n",
    "num_features = preprocessor.named_transformers_['num'].get_feature_names_out(numerical_features)\n",
    "cat_features = preprocessor.named_transformers_['cat'].get_feature_names_out(categorical_features)\n",
    "all_feature_names = np.concatenate([num_features, cat_features])\n",
    "\n",
    "# Example input (replace with your actual task)\n",
    "input_dict = {\n",
    "    \"task_type\": \"feature\",\n",
    "    \"priority\": 3,\n",
    "    \"duration\": 3,\n",
    "    \"subtasks\": 0,\n",
    "    \"deadline_days\": 30,\n",
    "    \"created_to_deadline\": 31,\n",
    "    \"user_past_completion\": 1,\n",
    "    \"description_length\": 120,\n",
    "    \"comments_count\": 5,\n",
    "    \"assigned_team_size\": 5,\n",
    "    \"user_availability\": 60,\n",
    "    \"no_curr_assigned_tasks\": 1,\n",
    "    \"tasks_completed\": 40,\n",
    "    \"avg_completion_time\": 0.16\n",
    "}\n",
    "input_df = pd.DataFrame([input_dict])\n",
    "\n",
    "# Preprocess input\n",
    "X_input = preprocessor.transform(input_df)\n",
    "\n"
   ]
  },
  {
   "cell_type": "markdown",
   "id": "126cf13752787678",
   "metadata": {
    "collapsed": false
   },
   "source": [
    "## SHAP Analysis\n",
    "\n",
    "SHAP (SHapley Additive exPlanations) shows how each feature contributed to the model's prediction for this specific task.\n"
   ]
  },
  {
   "cell_type": "code",
   "execution_count": null,
   "id": "f4806b19a8c20cef",
   "metadata": {
    "collapsed": false
   },
   "outputs": [],
   "source": [
    "import shap\n",
    "import matplotlib.pyplot as plt\n",
    "\n",
    "# Use a sample of your processed training data as background\n",
    "background = preprocessor.transform(X_train.sample(100, random_state=42))\n",
    "\n",
    "def predict_proba(X):\n",
    "    proba = model.predict(X)\n",
    "    return np.hstack([1 - proba, proba])\n",
    "\n",
    "explainer = shap.KernelExplainer(predict_proba, background)\n",
    "shap_values = explainer.shap_values(X_input, nsamples=100)\n",
    "\n",
    "# Debug prints\n",
    "print(\"all_feature_names:\", all_feature_names.shape)\n",
    "print(\"X_input shape:\", X_input.shape)\n",
    "print(\"X_input[0] shape:\", X_input[0].shape)\n",
    "print(\"shap_values type:\", type(shap_values))\n",
    "print(\"explainer.expected_value:\", explainer.expected_value)\n",
    "print(\"explainer.expected_value type:\", type(explainer.expected_value))\n",
    "\n",
    "if isinstance(shap_values, list):\n",
    "    print(\"shap_values is a list with length:\", len(shap_values))\n",
    "    for i, sv in enumerate(shap_values):\n",
    "        print(f\"shap_values[{i}] shape:\", sv.shape)\n",
    "else:\n",
    "    print(\"shap_values shape:\", shap_values.shape)\n",
    "\n",
    "# Now we know the exact structure: shap_values.shape = (1, 17, 2)\n",
    "# This means: [samples, features, classes]\n",
    "\n",
    "# For binary classification, we want to show the positive class (index 1)\n",
    "# Extract SHAP values for the positive class (completed tasks)\n",
    "shap_values_positive_class = shap_values[0, :, 1]  # First sample, all features, positive class\n",
    "expected_value_positive_class = explainer.expected_value[1]  # Expected value for positive class\n",
    "\n",
    "print(f\"SHAP values for positive class shape: {shap_values_positive_class.shape}\")\n",
    "print(f\"Expected value for positive class: {expected_value_positive_class}\")\n",
    "print(f\"Feature names count: {len(all_feature_names)}\")\n",
    "\n",
    "# Now plot using the old API (which should work with correct dimensions)\n",
    "shap_explanation = list(zip(all_feature_names, shap_values_positive_class))\n",
    "\n",
    "# Sort by absolute impact (optional, for top features)\n",
    "shap_explanation_sorted = sorted(shap_explanation, key=lambda x: abs(x[1]), reverse=True)\n",
    "\n",
    "# Print top N features\n",
    "N = 10\n",
    "print(\"SHAP Explanation (Top Features):\")\n",
    "for feature, value in shap_explanation_sorted[:N]:\n",
    "    print(f\"{feature}: {value:.4f}\")\n",
    "\n",
    "\n",
    "\n",
    "shap.initjs()\n",
    "shap.force_plot(\n",
    "    expected_value_positive_class,\n",
    "    shap_values_positive_class, \n",
    "    X_input[0],\n",
    "    feature_names=all_feature_names\n",
    ")"
   ]
  },
  {
   "cell_type": "markdown",
   "id": "b7e81430772ac52d",
   "metadata": {
    "collapsed": false
   },
   "source": [
    "## LIME Analysis\n",
    "\n",
    "LIME (Local Interpretable Model-agnostic Explanations) fits a simple model around the prediction to show which features were most important for this specific input.\n"
   ]
  },
  {
   "cell_type": "code",
   "execution_count": null,
   "id": "14d91a01d60b5982",
   "metadata": {
    "collapsed": false
   },
   "outputs": [],
   "source": [
    "from lime.lime_tabular import LimeTabularExplainer\n",
    "\n",
    "# For LIME, use a sample of your training data as background\n",
    "# If you have your processed training data, use it here\n",
    "background = np.random.randn(100, X_input.shape[1])\n",
    "\n",
    "explainer = LimeTabularExplainer(\n",
    "    training_data=background,\n",
    "    feature_names=all_feature_names,\n",
    "    class_names=['Not Completed', 'Completed'],\n",
    "    mode='classification'\n",
    ")\n",
    "\n",
    "# LIME expects a function that returns probabilities\n",
    "def predict_fn(x):\n",
    "    return np.hstack([1 - model.predict(x), model.predict(x)])\n",
    "\n",
    "exp = explainer.explain_instance(\n",
    "    X_input[0],\n",
    "    predict_fn,\n",
    "    num_features=10\n",
    ")\n",
    "\n",
    "lime_explanation = exp.as_list()\n",
    "\n",
    "# Print in a readable format\n",
    "print(\"LIME Explanation (Top Features):\")\n",
    "for feature, weight in lime_explanation:\n",
    "    print(f\"{feature}: {weight:.4f}\")\n",
    "\n",
    "\n",
    "# Show explanation in notebook\n",
    "fig = exp.as_pyplot_figure()\n",
    "plt.show()\n"
   ]
  },
  {
   "cell_type": "code",
   "execution_count": null,
   "id": "9adc30eca943fec7",
   "metadata": {
    "collapsed": false
   },
   "outputs": [],
   "source": []
  }
 ],
 "metadata": {
  "kernelspec": {
   "display_name": "Python 3 (ipykernel)",
   "language": "python",
   "name": "python3"
  },
  "language_info": {
   "codemirror_mode": {
    "name": "ipython",
    "version": 3
   },
   "file_extension": ".py",
   "mimetype": "text/x-python",
   "name": "python",
   "nbconvert_exporter": "python",
   "pygments_lexer": "ipython3",
   "version": "3.11.9"
  }
 },
 "nbformat": 4,
 "nbformat_minor": 5
}
